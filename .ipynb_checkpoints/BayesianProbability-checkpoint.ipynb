{
 "cells": [
  {
   "cell_type": "code",
   "execution_count": 285,
   "metadata": {},
   "outputs": [],
   "source": [
    "import pandas as pd\n",
    "import numpy\n",
    "from numpy import matrix\n",
    "numpy.set_printoptions(formatter={'float': lambda x: \"{0:0.6f}\".format(x)})\n",
    "from scipy.stats import norm\n",
    "\n",
    "class BayesianNetworks:\n",
    "    \n",
    "    ##Initialization\n",
    "    def __init__(self,file_name,handle_missing_data=\"any\"):\n",
    "        import pandas as pd\n",
    "        import numpy\n",
    "        from numpy import matrix\n",
    "        numpy.set_printoptions(formatter={'float': lambda x: \"{0:0.6f}\".format(x)})\n",
    "        \n",
    "        ##Only takes the columns that have these datatypes\n",
    "        self.ALLOWED_DTYPES = ['int16', 'int32', 'int64', 'float16', 'float32', 'float64']\n",
    "        \n",
    "        ##Only takes .xlsx,.xls,.csv files\n",
    "        self.file_ext = file_name.split(\".\")[-1]\n",
    "        \n",
    "        if  self.file_ext in ['xlsx','xls']:\n",
    "            self.df = pd.read_excel(file_name)\n",
    "        elif self.file_ext == 'csv':\n",
    "            self.df = pd.read_csv(file_name)\n",
    "        else:\n",
    "            raise Exception(\"Only .xlsx, .xls, .csv files supported!\")\n",
    "        \n",
    "        #Removes all columns which doesn't have numbers\n",
    "        self.df = self.df.select_dtypes(include=self.ALLOWED_DTYPES).dropna(1,handle_missing_data).dropna(0,handle_missing_data)\n",
    "        self.columns = list(self.df.columns)\n",
    "        \n",
    "        ##Basic Stats from the data\n",
    "        self.df_as_matrix = matrix(self.df).T\n",
    "        self.mean = [numpy.mean(list(self.df[column])) for column in self.df.columns]\n",
    "        self.median = [numpy.median(list(self.df[column])) for column in self.df.columns]\n",
    "        self.var = [numpy.var(list(self.df[column])) for column in self.df.columns]\n",
    "        self.std = [numpy.std(list(self.df[column])) for column in self.df.columns]\n",
    "        self.cov = numpy.cov(self.df_as_matrix)\n",
    "        self.cor = numpy.corrcoef(self.df_as_matrix)\n",
    "        self.pdf = matrix([self._univariate_pdf(column) for column in self.df.columns])\n",
    "    \n",
    "    #Private Functions\n",
    "    def _index_of_column(self,column):\n",
    "        return self.columns.index(column)\n",
    "    \n",
    "    def _univariate_pdf(self,column):\n",
    "        e = numpy.e\n",
    "        pi = numpy.pi\n",
    "        mean = self.mean[self._index_of_column(column)]\n",
    "        stddev = self.std[self._index_of_column(column)]\n",
    "        coefficient = 1/(numpy.sqrt(2*pi)*stddev)\n",
    "        return [coefficient*e**(-1/2.0*((i-mean)/stddev)**2) for i in self.df[column]]\n",
    "    \n",
    "    def _multivariate_pdf(self,columns):\n",
    "        indices = [1 if i in columns else 0 for i in self.columns ]\n",
    "        mean = [self.mean[i] for i in range(len(indices)) if indices[i] == 1]\n",
    "        cov = matrix([[self.cov.tolist()[i][j] for i in range(len(indices)) if indices[i] == 1] for j in range(len(indices)) if indices[j] == 1])\n",
    "        multivariate_list = matrix([bn.df_as_matrix.tolist()[i] for i in range(len(indices)) if indices[i] == 1]).T\n",
    "        cov_determinant = numpy.linalg.det(cov)\n",
    "        cov_inverse = cov**-1\n",
    "        coefficient = (1/((numpy.pi*2)**2*numpy.sqrt(cov_determinant)))\n",
    "        x_minus_mean = [i - mean for i in multivariate_list]\n",
    "        return [coefficient*numpy.e**(-1/2.0*i*cov_inverse*i.T).tolist()[0][0] for i in x_minus_mean]\n",
    "    \n",
    "    \n",
    "    #Public Functions\n",
    "    def log_likelihood(self,pdf_list):\n",
    "        return sum([numpy.log(i) for i in pdf_list])\n",
    "    \n",
    "    def univariate_log_likelihood(self):\n",
    "        return sum([self.log_likelihood(self.pdf.tolist()[self._index_of_column(column)]) for column in self.df.columns])\n",
    "    \n",
    "    def multivariate_log_likelihood(self):\n",
    "        return self.log_likelihood(self._multivariate_pdf(self.df.columns))\n",
    "    "
   ]
  },
  {
   "cell_type": "code",
   "execution_count": 286,
   "metadata": {},
   "outputs": [],
   "source": [
    "bn = BayesianNetworks('./university data.xlsx')"
   ]
  },
  {
   "cell_type": "code",
   "execution_count": 287,
   "metadata": {},
   "outputs": [
    {
     "data": {
      "text/plain": [
       "-1315.0987925607392"
      ]
     },
     "execution_count": 287,
     "metadata": {},
     "output_type": "execute_result"
    }
   ],
   "source": [
    "bn.univariate_log_likelihood()"
   ]
  },
  {
   "cell_type": "code",
   "execution_count": 288,
   "metadata": {
    "scrolled": true
   },
   "outputs": [
    {
     "data": {
      "text/plain": [
       "-1304.7782458098391"
      ]
     },
     "execution_count": 288,
     "metadata": {},
     "output_type": "execute_result"
    }
   ],
   "source": [
    "bn.multivariate_log_likelihood()"
   ]
  },
  {
   "cell_type": "code",
   "execution_count": null,
   "metadata": {},
   "outputs": [],
   "source": []
  },
  {
   "cell_type": "code",
   "execution_count": null,
   "metadata": {
    "collapsed": true
   },
   "outputs": [],
   "source": []
  },
  {
   "cell_type": "code",
   "execution_count": null,
   "metadata": {
    "collapsed": true
   },
   "outputs": [],
   "source": []
  },
  {
   "cell_type": "code",
   "execution_count": null,
   "metadata": {},
   "outputs": [],
   "source": [
    "n = input()"
   ]
  },
  {
   "cell_type": "code",
   "execution_count": null,
   "metadata": {
    "collapsed": true
   },
   "outputs": [],
   "source": [
    "string = \"\"\n",
    "for i in range(n):\n",
    "    string += str(1)"
   ]
  },
  {
   "cell_type": "code",
   "execution_count": null,
   "metadata": {},
   "outputs": [],
   "source": [
    "\n",
    "len([\"{0:b}\".format(i) for i in range(int(string,2))])\n",
    "    "
   ]
  },
  {
   "cell_type": "code",
   "execution_count": null,
   "metadata": {},
   "outputs": [],
   "source": [
    "string"
   ]
  },
  {
   "cell_type": "code",
   "execution_count": null,
   "metadata": {
    "collapsed": true
   },
   "outputs": [],
   "source": []
  },
  {
   "cell_type": "code",
   "execution_count": null,
   "metadata": {
    "collapsed": true
   },
   "outputs": [],
   "source": []
  },
  {
   "cell_type": "code",
   "execution_count": null,
   "metadata": {
    "collapsed": true
   },
   "outputs": [],
   "source": [
    "def univariate_pdf(df,column):\n",
    "    pi = numpy.pi\n",
    "    sigma = stddev(df,column)\n",
    "    mu = mean(df,column)\n",
    "    e = numpy.e\n",
    "    root2pi = numpy.sqrt(2*pi)\n",
    "    return [1/(root2pi*sigma)*e**(-1/2.0*((i-mu)/sigma)**2) for i in df[column]]\n",
    "\n",
    "pdf1 = univariate_pdf(df,\"CS_Score\")\n",
    "pdf2 = univariate_pdf(df,\"Research_Overhead\")\n",
    "pdf3 = univariate_pdf(df,\"Admin_Base_Pay\")\n",
    "pdf4 = univariate_pdf(df,\"Tuition_Out_State\")\n",
    "\n",
    "pdf_univariate = [pdf1[i]*pdf2[i]*pdf3[i]*pdf4[i] for i in range(49)]\n",
    "independent_log_likelihood = sum(numpy.log(pdf_univariate))\n",
    "print(\"logLikelihood = \" + str(independent_log_likelihood))\n",
    "\n",
    "def multivariate_pdf(df,covarianceMat,no_of_columns):\n",
    "    inverse_covarianceMat = covarianceMat**-1\n",
    "    determinant_covarianceMat = numpy.linalg.det(covarianceMat)\n",
    "    mu = matrix([mu1,mu2,mu3,mu4]).T\n",
    "    multivariate_list = [matrix(list(df.iloc[i][2:2+no_of_columns])) for i in range(49)]\n",
    "    \n",
    "    pdf = []\n",
    "    for i in range(49):\n",
    "        x = matrix(multivariate_list[i].tolist()[0]).T\n",
    "        coefficient = (1/((math.pi*2)**2*math.sqrt(determinant_covarianceMat)))\n",
    "        pdf.append(math.e**(-1/2.0*((x-mu).T*inverse_covarianceMat*(x-mu)).tolist()[0][0])*coefficient)\n",
    "    return pdf\n",
    "\n",
    "multivariate_log_likelihood = sum([numpy.log(i) for i in multivariate_pdf(df,covarianceMat,4)])\n",
    "print(\"multivariatelogLikelihood = \" + str(multivariate_log_likelihood))\n",
    "\n",
    "BNgraph = matrix([[1,0,0,0],[1,1,0,0],[0,0,1,0],[1,0,0,1]])\n",
    "def BNlogLikelihood(list1,list2):\n",
    "    A = matrix([[len(list1),sum(list1)],[sum(list1),sum([i**2 for i in list1])]]).I\n",
    "    Y = matrix([sum(list2),sum([i*j for i,j in zip(list1,list2)])]).T\n",
    "    [[b0],[b1]] = (A*Y).tolist()\n",
    "    variance = sum([(b0 + (b1*i) - j)**2 for i,j in zip(list1,list2)])/len(list1)\n",
    "    return (-1/2.0*len(list1)*numpy.log(2*math.pi*variance) -len(list1)/2.0)\n",
    "    \n",
    "def univariate_loglikelihood(pdf1,pdf2):\n",
    "    pdf_univariate = [pdf1[i]*pdf2[i] for i in range(49)]\n",
    "    return sum(numpy.log(pdf_univariate))\n",
    "\n",
    "BNLogLikelihoodFinal = BNlogLikelihood(list(df[\"CS_Score\"]),list(df[\"Research_Overhead\"])) + BNlogLikelihood(list(df[\"CS_Score\"]),list(df[\"Tuition_Out_State\"])) + univariate_loglikelihood(pdf1,pdf3)\n",
    "print(\"BNlogLikelihood = {:0.3f}\".format(BNLogLikelihoodFinal))"
   ]
  },
  {
   "cell_type": "code",
   "execution_count": null,
   "metadata": {
    "collapsed": true
   },
   "outputs": [],
   "source": []
  },
  {
   "cell_type": "code",
   "execution_count": null,
   "metadata": {
    "collapsed": true
   },
   "outputs": [],
   "source": []
  },
  {
   "cell_type": "code",
   "execution_count": null,
   "metadata": {
    "collapsed": true
   },
   "outputs": [],
   "source": []
  },
  {
   "cell_type": "code",
   "execution_count": null,
   "metadata": {
    "collapsed": true
   },
   "outputs": [],
   "source": []
  },
  {
   "cell_type": "code",
   "execution_count": null,
   "metadata": {
    "collapsed": true
   },
   "outputs": [],
   "source": []
  },
  {
   "cell_type": "code",
   "execution_count": null,
   "metadata": {
    "collapsed": true
   },
   "outputs": [],
   "source": []
  },
  {
   "cell_type": "code",
   "execution_count": null,
   "metadata": {
    "collapsed": true
   },
   "outputs": [],
   "source": []
  }
 ],
 "metadata": {
  "kernelspec": {
   "display_name": "Python 2",
   "language": "python",
   "name": "python2"
  },
  "language_info": {
   "codemirror_mode": {
    "name": "ipython",
    "version": 2
   },
   "file_extension": ".py",
   "mimetype": "text/x-python",
   "name": "python",
   "nbconvert_exporter": "python",
   "pygments_lexer": "ipython2",
   "version": "2.7.13"
  }
 },
 "nbformat": 4,
 "nbformat_minor": 2
}
