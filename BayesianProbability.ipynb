{
 "cells": [
  {
   "cell_type": "code",
   "execution_count": 11,
   "metadata": {
    "collapsed": true
   },
   "outputs": [],
   "source": []
  },
  {
   "cell_type": "code",
   "execution_count": 47,
   "metadata": {},
   "outputs": [],
   "source": [
    "import pandas as pd\n",
    "import numpy\n",
    "from numpy import matrix\n",
    "numpy.set_printoptions(formatter={'float': lambda x: \"{0:0.6f}\".format(x)})\n",
    "from scipy.stats import norm\n",
    "\n",
    "class BayesianNetworks:\n",
    "    \n",
    "    ##Import Statements  \n",
    "    \n",
    "    ##Initialization\n",
    "    \n",
    "    def __init__(self,file_name,handle_missing_data=\"any\"):\n",
    "        \n",
    "        import pandas as pd\n",
    "        import numpy\n",
    "        from numpy import matrix\n",
    "        numpy.set_printoptions(formatter={'float': lambda x: \"{0:0.6f}\".format(x)})\n",
    "        \n",
    "        ##Only takes the columns that have these datatypes\n",
    "        self.ALLOWED_DTYPES = ['int16', 'int32', 'int64', 'float16', 'float32', 'float64']\n",
    "        \n",
    "        ##Only takes .xlsx,.xls,.csv files\n",
    "        self.file_ext = file_name.split(\".\")[-1]\n",
    "        \n",
    "        if  self.file_ext in ['xlsx','xls']:\n",
    "            self.df = pd.read_excel(file_name)\n",
    "        elif self.file_ext == 'csv':\n",
    "            self.df = pd.read_csv(file_name)\n",
    "        else:\n",
    "            raise Exception(\"Only .xlsx, .xls, .csv files supported!\")\n",
    "        \n",
    "        #Removes all columns which doesn't have numbers\n",
    "        self.df = self.df.select_dtypes(include=self.ALLOWED_DTYPES).dropna(1,handle_missing_data).dropna(0,handle_missing_data)\n",
    "        self.columns = list(self.df.columns)\n",
    "        \n",
    "        ##Basic Stats from the data\n",
    "        self.df_as_matrix = matrix(self.df).T\n",
    "        self.mean = [numpy.mean(list(self.df[column])) for column in self.df.columns]\n",
    "        self.median = [numpy.median(list(self.df[column])) for column in self.df.columns]\n",
    "        self.var = [numpy.var(list(self.df[column])) for column in self.df.columns]\n",
    "        self.std = [numpy.std(list(self.df[column])) for column in self.df.columns]\n",
    "        self.cov = numpy.cov(self.df_as_matrix)\n",
    "        self.cor = numpy.corrcoef(self.df_as_matrix)\n",
    "        \n",
    "    def _univariate_pdf(self,column):\n",
    "        index = self.columns.index(column)\n",
    "        return [1/(numpy.sqrt(2*numpy.pi)*self.std[index])*numpy.e**(-1/2.0*((i-self.mean[index])/self.std[index])**2) for i in self.df[column]]\n",
    "\n",
    "    \n",
    "    \n",
    "    \n",
    "    "
   ]
  },
  {
   "cell_type": "code",
   "execution_count": 48,
   "metadata": {
    "collapsed": true
   },
   "outputs": [],
   "source": [
    "bn = BayesianNetworks('./university data.xlsx')"
   ]
  },
  {
   "cell_type": "code",
   "execution_count": 49,
   "metadata": {},
   "outputs": [
    {
     "ename": "AttributeError",
     "evalue": "BayesianNetworks instance has no attribute 'univariate_pdf'",
     "output_type": "error",
     "traceback": [
      "\u001b[1;31m---------------------------------------------------------------------------\u001b[0m",
      "\u001b[1;31mAttributeError\u001b[0m                            Traceback (most recent call last)",
      "\u001b[1;32m<ipython-input-49-f45a92da7aeb>\u001b[0m in \u001b[0;36m<module>\u001b[1;34m()\u001b[0m\n\u001b[1;32m----> 1\u001b[1;33m \u001b[0mbn\u001b[0m\u001b[1;33m.\u001b[0m\u001b[0munivariate_pdf\u001b[0m\u001b[1;33m(\u001b[0m\u001b[1;34m\"Admin_Base_Pay\"\u001b[0m\u001b[1;33m)\u001b[0m\u001b[1;33m\u001b[0m\u001b[0m\n\u001b[0m",
      "\u001b[1;31mAttributeError\u001b[0m: BayesianNetworks instance has no attribute 'univariate_pdf'"
     ]
    }
   ],
   "source": []
  },
  {
   "cell_type": "code",
   "execution_count": null,
   "metadata": {
    "collapsed": true
   },
   "outputs": [],
   "source": []
  },
  {
   "cell_type": "code",
   "execution_count": null,
   "metadata": {
    "collapsed": true
   },
   "outputs": [],
   "source": []
  },
  {
   "cell_type": "code",
   "execution_count": null,
   "metadata": {
    "collapsed": true
   },
   "outputs": [],
   "source": [
    "def univariate_pdf(df,column):\n",
    "    pi = numpy.pi\n",
    "    sigma = stddev(df,column)\n",
    "    mu = mean(df,column)\n",
    "    e = numpy.e\n",
    "    root2pi = numpy.sqrt(2*pi)\n",
    "    return [1/(root2pi*sigma)*e**(-1/2.0*((i-mu)/sigma)**2) for i in df[column]]\n",
    "\n",
    "pdf1 = univariate_pdf(df,\"CS_Score\")\n",
    "pdf2 = univariate_pdf(df,\"Research_Overhead\")\n",
    "pdf3 = univariate_pdf(df,\"Admin_Base_Pay\")\n",
    "pdf4 = univariate_pdf(df,\"Tuition_Out_State\")\n",
    "\n",
    "pdf_univariate = [pdf1[i]*pdf2[i]*pdf3[i]*pdf4[i] for i in range(49)]\n",
    "independent_log_likelihood = sum(numpy.log(pdf_univariate))\n",
    "print(\"logLikelihood = \" + str(independent_log_likelihood))\n",
    "\n",
    "def multivariate_pdf(df,covarianceMat,no_of_columns):\n",
    "    inverse_covarianceMat = covarianceMat**-1\n",
    "    determinant_covarianceMat = numpy.linalg.det(covarianceMat)\n",
    "    mu = matrix([mu1,mu2,mu3,mu4]).T\n",
    "    multivariate_list = [matrix(list(df.iloc[i][2:2+no_of_columns])) for i in range(49)]\n",
    "    \n",
    "    pdf = []\n",
    "    for i in range(49):\n",
    "        x = matrix(multivariate_list[i].tolist()[0]).T\n",
    "        coefficient = (1/((math.pi*2)**2*math.sqrt(determinant_covarianceMat)))\n",
    "        pdf.append(math.e**(-1/2.0*((x-mu).T*inverse_covarianceMat*(x-mu)).tolist()[0][0])*coefficient)\n",
    "    return pdf\n",
    "\n",
    "multivariate_log_likelihood = sum([numpy.log(i) for i in multivariate_pdf(df,covarianceMat,4)])\n",
    "print(\"multivariatelogLikelihood = \" + str(multivariate_log_likelihood))\n",
    "\n",
    "BNgraph = matrix([[1,0,0,0],[1,1,0,0],[0,0,1,0],[1,0,0,1]])\n",
    "def BNlogLikelihood(list1,list2):\n",
    "    A = matrix([[len(list1),sum(list1)],[sum(list1),sum([i**2 for i in list1])]]).I\n",
    "    Y = matrix([sum(list2),sum([i*j for i,j in zip(list1,list2)])]).T\n",
    "    [[b0],[b1]] = (A*Y).tolist()\n",
    "    variance = sum([(b0 + (b1*i) - j)**2 for i,j in zip(list1,list2)])/len(list1)\n",
    "    return (-1/2.0*len(list1)*numpy.log(2*math.pi*variance) -len(list1)/2.0)\n",
    "    \n",
    "def univariate_loglikelihood(pdf1,pdf2):\n",
    "    pdf_univariate = [pdf1[i]*pdf2[i] for i in range(49)]\n",
    "    return sum(numpy.log(pdf_univariate))\n",
    "\n",
    "BNLogLikelihoodFinal = BNlogLikelihood(list(df[\"CS_Score\"]),list(df[\"Research_Overhead\"])) + BNlogLikelihood(list(df[\"CS_Score\"]),list(df[\"Tuition_Out_State\"])) + univariate_loglikelihood(pdf1,pdf3)\n",
    "print(\"BNlogLikelihood = {:0.3f}\".format(BNLogLikelihoodFinal))"
   ]
  },
  {
   "cell_type": "code",
   "execution_count": null,
   "metadata": {
    "collapsed": true
   },
   "outputs": [],
   "source": []
  },
  {
   "cell_type": "code",
   "execution_count": null,
   "metadata": {
    "collapsed": true
   },
   "outputs": [],
   "source": []
  },
  {
   "cell_type": "code",
   "execution_count": null,
   "metadata": {
    "collapsed": true
   },
   "outputs": [],
   "source": []
  },
  {
   "cell_type": "code",
   "execution_count": null,
   "metadata": {
    "collapsed": true
   },
   "outputs": [],
   "source": []
  },
  {
   "cell_type": "code",
   "execution_count": null,
   "metadata": {
    "collapsed": true
   },
   "outputs": [],
   "source": []
  },
  {
   "cell_type": "code",
   "execution_count": null,
   "metadata": {
    "collapsed": true
   },
   "outputs": [],
   "source": []
  },
  {
   "cell_type": "code",
   "execution_count": null,
   "metadata": {
    "collapsed": true
   },
   "outputs": [],
   "source": []
  },
  {
   "cell_type": "code",
   "execution_count": null,
   "metadata": {
    "collapsed": true
   },
   "outputs": [],
   "source": []
  },
  {
   "cell_type": "code",
   "execution_count": null,
   "metadata": {
    "collapsed": true
   },
   "outputs": [],
   "source": []
  },
  {
   "cell_type": "code",
   "execution_count": null,
   "metadata": {
    "collapsed": true
   },
   "outputs": [],
   "source": []
  }
 ],
 "metadata": {
  "kernelspec": {
   "display_name": "Python 2",
   "language": "python",
   "name": "python2"
  },
  "language_info": {
   "codemirror_mode": {
    "name": "ipython",
    "version": 2
   },
   "file_extension": ".py",
   "mimetype": "text/x-python",
   "name": "python",
   "nbconvert_exporter": "python",
   "pygments_lexer": "ipython2",
   "version": "2.7.13"
  }
 },
 "nbformat": 4,
 "nbformat_minor": 2
}
