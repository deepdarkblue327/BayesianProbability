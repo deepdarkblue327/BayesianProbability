{
 "cells": [
  {
   "cell_type": "markdown",
   "metadata": {
    "collapsed": true
   },
   "source": [
    "# Initialization"
   ]
  },
  {
   "cell_type": "code",
   "execution_count": 3,
   "metadata": {},
   "outputs": [
    {
     "name": "stdout",
     "output_type": "stream",
     "text": [
      "Group members\n",
      "\n",
      "UBITName = suniluma\n",
      "personNumber = 50249002\n",
      "\n",
      "UBITName = a45\n",
      "personNumber = 50244979\n",
      "\n",
      "UBITName = prajnaga\n",
      "personNumber = 50244304\n",
      "\n"
     ]
    }
   ],
   "source": [
    "import pandas as pd\n",
    "import scipy.stats as sst\n",
    "import scipy\n",
    "import numpy\n",
    "import math\n",
    "%matplotlib inline\n",
    "from numpy import matrix\n",
    "numpy.set_printoptions(formatter={'float': lambda x: \"{0:0.3f}\".format(x)})\n",
    "\n",
    "EXCEL_LOCATION = \"./university data.xlsx\"\n",
    "UBITNAME1 = \"suniluma\"\n",
    "PERSON_NUMBER1 = \"50249002\"\n",
    "UBITNAME2 = \"a45\"\n",
    "PERSON_NUMBER2 = \"50244979\"\n",
    "UBITNAME3 =\"prajnaga\"\n",
    "PERSON_NUMBER3 = \"50244304\"\n",
    "\n",
    "df = pd.read_excel(EXCEL_LOCATION)\n",
    "df.columns = [\"Rank\",\n",
    "              \"Name\",\n",
    "              \"CS_Score\",\n",
    "              \"Research_Overhead\",\n",
    "              \"Base_Pay\",\n",
    "              \"Tuition_Out_State\",\n",
    "              \"GradStudents\",\n",
    "              \"TTFaculty\",\n",
    "              \"Lecturers\",\n",
    "              \"G_TTRatio\",\n",
    "              \"G_TTLRatio\"]\n",
    "\n",
    "print(\"Group members\\n\")\n",
    "print(\"UBITName = {}\".format(UBITNAME1))\n",
    "print(\"personNumber = {}\\n\".format(PERSON_NUMBER1))\n",
    "print(\"UBITName = {}\".format(UBITNAME2))\n",
    "print(\"personNumber = {}\\n\".format(PERSON_NUMBER2))\n",
    "print(\"UBITName = {}\".format(UBITNAME3))\n",
    "print(\"personNumber = {}\\n\".format(PERSON_NUMBER3))"
   ]
  },
  {
   "cell_type": "markdown",
   "metadata": {},
   "source": [
    "# Task 1"
   ]
  },
  {
   "cell_type": "code",
   "execution_count": 4,
   "metadata": {
    "collapsed": true
   },
   "outputs": [],
   "source": [
    "def mean(df,column):\n",
    "    return numpy.mean(df[column])\n",
    "\n",
    "def variance(df,column):\n",
    "    return numpy.var(df[column])\n",
    "    \n",
    "def stddev(df,column):\n",
    "    return numpy.std(df[column])"
   ]
  },
  {
   "cell_type": "code",
   "execution_count": 5,
   "metadata": {},
   "outputs": [
    {
     "name": "stdout",
     "output_type": "stream",
     "text": [
      "mu1 = 3.21428571429\n",
      "mu2 = 53.3857142857\n",
      "mu3 = 469178.816327\n",
      "mu4 = 29711.9591837\n",
      "\n",
      "var1 = 0.448163265306\n",
      "var2 = 12.5881632653\n",
      "var3 = 13900134681.7\n",
      "var4 = 30727538.733\n",
      "\n",
      "sigma1 = 0.669449972221\n",
      "sigma2 = 3.54798016698\n",
      "sigma3 = 117898.832402\n",
      "sigma4 = 5543.24261899\n"
     ]
    }
   ],
   "source": [
    "mu1 = mean(df,\"CS_Score\")\n",
    "mu2 = mean(df,\"Research_Overhead\")\n",
    "mu3 = mean(df,\"Base_Pay\")\n",
    "mu4 = mean(df,\"Tuition_Out_State\")\n",
    "print(\"mu1 = \" + str(mu1))\n",
    "print(\"mu2 = \" + str(mu2))\n",
    "print(\"mu3 = \" + str(mu3))\n",
    "print(\"mu4 = \" + str(mu4))\n",
    "print(\"\")\n",
    "var1 = variance(df,\"CS_Score\")\n",
    "var2 = variance(df,\"Research_Overhead\")\n",
    "var3 = variance(df,\"Base_Pay\")\n",
    "var4 = variance(df,\"Tuition_Out_State\")\n",
    "print(\"var1 = \" + str(var1))\n",
    "print(\"var2 = \" + str(var2))\n",
    "print(\"var3 = \" + str(var3))\n",
    "print(\"var4 = \" + str(var4))\n",
    "print(\"\")\n",
    "sigma1 = stddev(df,\"CS_Score\")\n",
    "sigma2 = stddev(df,\"Research_Overhead\")\n",
    "sigma3 = stddev(df,\"Base_Pay\")\n",
    "sigma4 = stddev(df,\"Tuition_Out_State\")\n",
    "print(\"sigma1 = \" + str(sigma1))\n",
    "print(\"sigma2 = \" + str(sigma2))\n",
    "print(\"sigma3 = \" + str(sigma3))\n",
    "print(\"sigma4 = \" + str(sigma4))"
   ]
  },
  {
   "cell_type": "markdown",
   "metadata": {},
   "source": [
    "# Task 2"
   ]
  },
  {
   "cell_type": "code",
   "execution_count": 6,
   "metadata": {
    "collapsed": true
   },
   "outputs": [],
   "source": [
    "def plotter(df, column1, column2):\n",
    "    return df.plot.scatter(x=column1, y=column2, style='o')\n",
    "\n",
    "def covariance_matrix(df):\n",
    "    array_like_variables = df.as_matrix().T\n",
    "    return numpy.cov(array_like_variables)\n",
    "\n",
    "def correlation_matrix(df):\n",
    "    array_like_variables = df.as_matrix().T\n",
    "    return numpy.corrcoef(array_like_variables)"
   ]
  },
  {
   "cell_type": "code",
   "execution_count": 7,
   "metadata": {},
   "outputs": [
    {
     "name": "stdout",
     "output_type": "stream",
     "text": [
      "covarianceMat = \n",
      "[[0.458 1.106 3879.782 1058.480]\n",
      " [1.106 12.850 70279.376 2805.789]\n",
      " [3879.782 70279.376 14189720820.903 -163685641.258]\n",
      " [1058.480 2805.789 -163685641.258 31367695.790]]\n",
      "\n",
      "correlationMat = \n",
      "[[1.000 0.456 0.048 0.279]\n",
      " [0.456 1.000 0.165 0.140]\n",
      " [0.048 0.165 1.000 -0.245]\n",
      " [0.279 0.140 -0.245 1.000]]\n"
     ]
    }
   ],
   "source": [
    "covarianceMat = matrix(covariance_matrix(df[[\"CS_Score\",\n",
    "              \"Research_Overhead\",\n",
    "              \"Base_Pay\",\n",
    "              \"Tuition_Out_State\",]]))\n",
    "print(\"covarianceMat = \")\n",
    "print(covarianceMat)\n",
    "print(\"\")\n",
    "correlationMat = matrix(correlation_matrix(df[[\"CS_Score\",\n",
    "              \"Research_Overhead\",\n",
    "              \"Base_Pay\",\n",
    "              \"Tuition_Out_State\",]]))\n",
    "print(\"correlationMat = \")\n",
    "print(correlationMat)"
   ]
  },
  {
   "cell_type": "code",
   "execution_count": 8,
   "metadata": {},
   "outputs": [
    {
     "data": {
      "text/plain": [
       "<matplotlib.axes._subplots.AxesSubplot at 0x50e1ac8>"
      ]
     },
     "execution_count": 8,
     "metadata": {},
     "output_type": "execute_result"
    },
    {
     "data": {
      "image/png": "[encoded data removed]",
      "text/plain": [
       "<matplotlib.figure.Figure at 0x1ddc6da0>"
      ]
     },
     "metadata": {},
     "output_type": "display_data"
    }
   ],
   "source": [
    "plotter(df,'CS_Score',\"Research_Overhead\")"
   ]
  },
  {
   "cell_type": "code",
   "execution_count": 9,
   "metadata": {},
   "outputs": [
    {
     "data": {
      "text/plain": [
       "<matplotlib.axes._subplots.AxesSubplot at 0x1ddcd9e8>"
      ]
     },
     "execution_count": 9,
     "metadata": {},
     "output_type": "execute_result"
    },
    {
     "data": {
      "image/png": "[encoded data removed]",
      "text/plain": [
       "<matplotlib.figure.Figure at 0x1df585c0>"
      ]
     },
     "metadata": {},
     "output_type": "display_data"
    }
   ],
   "source": [
    "plotter(df,'CS_Score',\"Base_Pay\")"
   ]
  },
  {
   "cell_type": "code",
   "execution_count": 10,
   "metadata": {},
   "outputs": [
    {
     "data": {
      "text/plain": [
       "<matplotlib.axes._subplots.AxesSubplot at 0x1e1df0b8>"
      ]
     },
     "execution_count": 10,
     "metadata": {},
     "output_type": "execute_result"
    },
    {
     "data": {
      "image/png": "[encoded data removed]",
      "text/plain": [
       "<matplotlib.figure.Figure at 0x1e1e83c8>"
      ]
     },
     "metadata": {},
     "output_type": "display_data"
    }
   ],
   "source": [
    "plotter(df,'CS_Score',\"Tuition_Out_State\")"
   ]
  },
  {
   "cell_type": "code",
   "execution_count": 11,
   "metadata": {},
   "outputs": [
    {
     "data": {
      "text/plain": [
       "<matplotlib.axes._subplots.AxesSubplot at 0x1e280550>"
      ]
     },
     "execution_count": 11,
     "metadata": {},
     "output_type": "execute_result"
    },
    {
     "data": {
      "image/png": "[encoded data removed]",
      "text/plain": [
       "<matplotlib.figure.Figure at 0x1ec32470>"
      ]
     },
     "metadata": {},
     "output_type": "display_data"
    }
   ],
   "source": [
    "plotter(df,'Base_Pay',\"Research_Overhead\")"
   ]
  },
  {
   "cell_type": "code",
   "execution_count": 12,
   "metadata": {},
   "outputs": [
    {
     "data": {
      "text/plain": [
       "<matplotlib.axes._subplots.AxesSubplot at 0x1ee5ec18>"
      ]
     },
     "execution_count": 12,
     "metadata": {},
     "output_type": "execute_result"
    },
    {
     "data": {
      "image/png": "[encoded data removed]",
      "text/plain": [
       "<matplotlib.figure.Figure at 0x1ee77a90>"
      ]
     },
     "metadata": {},
     "output_type": "display_data"
    }
   ],
   "source": [
    "plotter(df,'Base_Pay',\"Tuition_Out_State\")"
   ]
  },
  {
   "cell_type": "code",
   "execution_count": 13,
   "metadata": {},
   "outputs": [
    {
     "data": {
      "text/plain": [
       "<matplotlib.axes._subplots.AxesSubplot at 0x1ef678d0>"
      ]
     },
     "execution_count": 13,
     "metadata": {},
     "output_type": "execute_result"
    },
    {
     "data": {
      "image/png": "[encoded data removed]",
      "text/plain": [
       "<matplotlib.figure.Figure at 0x1f071438>"
      ]
     },
     "metadata": {},
     "output_type": "display_data"
    }
   ],
   "source": [
    "plotter(df,'Research_Overhead',\"Tuition_Out_State\")"
   ]
  },
  {
   "cell_type": "markdown",
   "metadata": {
    "collapsed": true
   },
   "source": [
    "# Task 3"
   ]
  },
  {
   "cell_type": "code",
   "execution_count": 14,
   "metadata": {},
   "outputs": [
    {
     "name": "stdout",
     "output_type": "stream",
     "text": [
      "logLikelihood = -1315.09879256\n"
     ]
    }
   ],
   "source": [
    "def univariate_pdf(df,column):\n",
    "    pi = numpy.pi\n",
    "    sigma = stddev(df,column)\n",
    "    mu = mean(df,column)\n",
    "    e = numpy.e\n",
    "    root2pi = numpy.sqrt(2*pi)\n",
    "    return [1/(root2pi*sigma)*e**(-1/2.0*((i-mu)/sigma)**2) for i in df[column]]\n",
    "\n",
    "pdf1 = univariate_pdf(df,\"CS_Score\")\n",
    "pdf2 = univariate_pdf(df,\"Research_Overhead\")\n",
    "pdf3 = univariate_pdf(df,\"Base_Pay\")\n",
    "pdf4 = univariate_pdf(df,\"Tuition_Out_State\")\n",
    "\n",
    "pdf_univariate = [pdf1[i]*pdf2[i]*pdf3[i]*pdf4[i] for i in range(49)]\n",
    "independent_log_likelihood = sum(numpy.log(pdf_univariate))\n",
    "print(\"logLikelihood = \" + str(independent_log_likelihood))"
   ]
  },
  {
   "cell_type": "code",
   "execution_count": 15,
   "metadata": {},
   "outputs": [
    {
     "name": "stdout",
     "output_type": "stream",
     "text": [
      "multivariatelogLikelihood = -1304.77824581\n"
     ]
    }
   ],
   "source": [
    "def multivariate_pdf(df,covarianceMat,no_of_columns):\n",
    "    inverse_covarianceMat = covarianceMat**-1\n",
    "    determinant_covarianceMat = numpy.linalg.det(covarianceMat)\n",
    "    mu = matrix([mu1,mu2,mu3,mu4]).T\n",
    "    multivariate_list = [matrix(list(df.iloc[i][2:2+no_of_columns])) for i in range(49)]\n",
    "    \n",
    "    pdf = []\n",
    "    for i in range(49):\n",
    "        x = matrix(multivariate_list[i].tolist()[0]).T\n",
    "        coefficient = (1/((math.pi*2)**2*math.sqrt(determinant_covarianceMat)))\n",
    "        pdf.append(math.e**(-1/2.0*((x-mu).T*inverse_covarianceMat*(x-mu)).tolist()[0][0])*coefficient)\n",
    "    return pdf\n",
    "\n",
    "multivariate_log_likelihood = sum([numpy.log(i) for i in multivariate_pdf(df,covarianceMat,4)])\n",
    "print(\"multivariatelogLikelihood = \" + str(multivariate_log_likelihood))"
   ]
  },
  {
   "cell_type": "code",
   "execution_count": 16,
   "metadata": {},
   "outputs": [
    {
     "name": "stdout",
     "output_type": "stream",
     "text": [
      "BNgraph = \n",
      "[[1 0 0 0]\n",
      " [1 1 0 0]\n",
      " [0 0 1 0]\n",
      " [1 0 0 1]]\n"
     ]
    }
   ],
   "source": [
    "BNgraph = [[1,0,0,0],[1,1,0,0],[0,0,1,0],[1,0,0,1]]\n",
    "print(\"BNgraph = \")\n",
    "print(numpy.matrix(BNgraph))"
   ]
  },
  {
   "cell_type": "code",
   "execution_count": 31,
   "metadata": {
    "collapsed": true
   },
   "outputs": [],
   "source": [
    "def BNlogLikelihood(list1,list2):\n",
    "    A = numpy.matrix([[len(list1),sum(list1)],[sum(list1),sum([i**2 for i in list1])]]).I\n",
    "    Y = numpy.matrix([sum(list2),sum([i*j for i,j in zip(list1,list2)])]).T\n",
    "    [[b0],[b1]] = (A*Y).tolist()\n",
    "    variance = sum([(b0 + (b1*i) - j)**2 for i,j in zip(list1,list2)])/len(list1)\n",
    "    return (-1/2.0*len(list1)*numpy.log(2*math.pi*variance) -len(list1)/2.0)\n",
    "    \n",
    "def univariate_loglikelihood(pdf1,pdf2):\n",
    "    pdf_univariate = [pdf1[i]*pdf2[i] for i in range(49)]\n",
    "    return sum(numpy.log(pdf_univariate))"
   ]
  },
  {
   "cell_type": "code",
   "execution_count": 34,
   "metadata": {},
   "outputs": [],
   "source": [
    "BNLogLikelihoodFinal = BNlogLikelihood(list(df[\"CS_Score\"]),list(df[\"Research_Overhead\"])) + BNlogLikelihood(list(df[\"CS_Score\"]),list(df[\"Tuition_Out_State\"])) + univariate_loglikelihood(pdf1,pdf3)"
   ]
  },
  {
   "cell_type": "code",
   "execution_count": 35,
   "metadata": {},
   "outputs": [
    {
     "name": "stdout",
     "output_type": "stream",
     "text": [
      "BNlogLikelihood = -1307.396\n"
     ]
    }
   ],
   "source": [
    "print(\"BNlogLikelihood = {:0.3f}\".format(BNLogLikelihoodFinal))"
   ]
  },
  {
   "cell_type": "code",
   "execution_count": 26,
   "metadata": {},
   "outputs": [
    {
     "data": {
      "text/plain": [
       "-49.864344931031198"
      ]
     },
     "execution_count": 26,
     "metadata": {},
     "output_type": "execute_result"
    }
   ],
   "source": [
    "sum(numpy.log(pdf1))"
   ]
  },
  {
   "cell_type": "code",
   "execution_count": 25,
   "metadata": {},
   "outputs": [
    {
     "data": {
      "text/plain": [
       "-181.44487830940128"
      ]
     },
     "execution_count": 25,
     "metadata": {},
     "output_type": "execute_result"
    }
   ],
   "source": [
    "univariate_loglikelihood(pdf1,)"
   ]
  },
  {
   "cell_type": "code",
   "execution_count": null,
   "metadata": {
    "collapsed": true
   },
   "outputs": [],
   "source": []
  },
  {
   "cell_type": "code",
   "execution_count": null,
   "metadata": {
    "collapsed": true
   },
   "outputs": [],
   "source": []
  },
  {
   "cell_type": "code",
   "execution_count": null,
   "metadata": {
    "collapsed": true
   },
   "outputs": [],
   "source": []
  },
  {
   "cell_type": "code",
   "execution_count": null,
   "metadata": {
    "collapsed": true
   },
   "outputs": [],
   "source": []
  },
  {
   "cell_type": "code",
   "execution_count": null,
   "metadata": {
    "collapsed": true
   },
   "outputs": [],
   "source": []
  },
  {
   "cell_type": "code",
   "execution_count": null,
   "metadata": {
    "collapsed": true
   },
   "outputs": [],
   "source": []
  },
  {
   "cell_type": "code",
   "execution_count": null,
   "metadata": {
    "collapsed": true
   },
   "outputs": [],
   "source": []
  }
 ],
 "metadata": {
  "kernelspec": {
   "display_name": "Python 2",
   "language": "python",
   "name": "python2"
  },
  "language_info": {
   "codemirror_mode": {
    "name": "ipython",
    "version": 2
   },
   "file_extension": ".py",
   "mimetype": "text/x-python",
   "name": "python",
   "nbconvert_exporter": "python",
   "pygments_lexer": "ipython2",
   "version": "2.7.13"
  }
 },
 "nbformat": 4,
 "nbformat_minor": 2
}
